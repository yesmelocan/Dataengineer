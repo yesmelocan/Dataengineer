{
 "cells": [
  {
   "cell_type": "code",
   "execution_count": null,
   "metadata": {},
   "outputs": [],
   "source": [
    "from pyspark.sql import SparkSession\n",
    "from pyspark.sql.functions import from_json, col\n",
    "from pyspark.sql.types import *\n",
    "\n",
    "# start spark session \n",
    "spark = SparkSession.builder \\\n",
    "    .appName(\"KafkaDebezium\") \\\n",
    "    .getOrCreate()"
   ]
  },
  {
   "cell_type": "code",
   "execution_count": null,
   "metadata": {},
   "outputs": [
    {
     "ename": "AnalysisException",
     "evalue": "Failed to find data source: kafka. Please deploy the application as per the deployment section of Structured Streaming + Kafka Integration Guide.",
     "output_type": "error",
     "traceback": [
      "\u001b[1;31m---------------------------------------------------------------------------\u001b[0m",
      "\u001b[1;31mAnalysisException\u001b[0m                         Traceback (most recent call last)",
      "Cell \u001b[1;32mIn[4], line 6\u001b[0m\n\u001b[0;32m      1\u001b[0m \u001b[38;5;66;03m# read data from Kafka\u001b[39;00m\n\u001b[0;32m      2\u001b[0m kafka_df \u001b[38;5;241m=\u001b[39m spark\u001b[38;5;241m.\u001b[39mreadStream \\\n\u001b[0;32m      3\u001b[0m     \u001b[38;5;241m.\u001b[39mformat(\u001b[38;5;124m\"\u001b[39m\u001b[38;5;124mkafka\u001b[39m\u001b[38;5;124m\"\u001b[39m) \\\n\u001b[0;32m      4\u001b[0m     \u001b[38;5;241m.\u001b[39moption(\u001b[38;5;124m\"\u001b[39m\u001b[38;5;124mkafka.bootstrap.servers\u001b[39m\u001b[38;5;124m\"\u001b[39m, \u001b[38;5;124m\"\u001b[39m\u001b[38;5;124m34.170.38.47:9092\u001b[39m\u001b[38;5;124m\"\u001b[39m) \\\n\u001b[0;32m      5\u001b[0m     \u001b[38;5;241m.\u001b[39moption(\u001b[38;5;124m\"\u001b[39m\u001b[38;5;124msubscribe\u001b[39m\u001b[38;5;124m\"\u001b[39m, \u001b[38;5;124m\"\u001b[39m\u001b[38;5;124mdbserver1.public.user_activity\u001b[39m\u001b[38;5;124m\"\u001b[39m) \\\n\u001b[1;32m----> 6\u001b[0m     \u001b[38;5;241m.\u001b[39mload()\n",
      "File \u001b[1;32mc:\\Users\\melih\\anaconda3\\Lib\\site-packages\\pyspark\\sql\\streaming\\readwriter.py:304\u001b[0m, in \u001b[0;36mDataStreamReader.load\u001b[1;34m(self, path, format, schema, **options)\u001b[0m\n\u001b[0;32m    302\u001b[0m     \u001b[38;5;28;01mreturn\u001b[39;00m \u001b[38;5;28mself\u001b[39m\u001b[38;5;241m.\u001b[39m_df(\u001b[38;5;28mself\u001b[39m\u001b[38;5;241m.\u001b[39m_jreader\u001b[38;5;241m.\u001b[39mload(path))\n\u001b[0;32m    303\u001b[0m \u001b[38;5;28;01melse\u001b[39;00m:\n\u001b[1;32m--> 304\u001b[0m     \u001b[38;5;28;01mreturn\u001b[39;00m \u001b[38;5;28mself\u001b[39m\u001b[38;5;241m.\u001b[39m_df(\u001b[38;5;28mself\u001b[39m\u001b[38;5;241m.\u001b[39m_jreader\u001b[38;5;241m.\u001b[39mload())\n",
      "File \u001b[1;32mc:\\Users\\melih\\anaconda3\\Lib\\site-packages\\py4j\\java_gateway.py:1322\u001b[0m, in \u001b[0;36mJavaMember.__call__\u001b[1;34m(self, *args)\u001b[0m\n\u001b[0;32m   1316\u001b[0m command \u001b[38;5;241m=\u001b[39m proto\u001b[38;5;241m.\u001b[39mCALL_COMMAND_NAME \u001b[38;5;241m+\u001b[39m\\\n\u001b[0;32m   1317\u001b[0m     \u001b[38;5;28mself\u001b[39m\u001b[38;5;241m.\u001b[39mcommand_header \u001b[38;5;241m+\u001b[39m\\\n\u001b[0;32m   1318\u001b[0m     args_command \u001b[38;5;241m+\u001b[39m\\\n\u001b[0;32m   1319\u001b[0m     proto\u001b[38;5;241m.\u001b[39mEND_COMMAND_PART\n\u001b[0;32m   1321\u001b[0m answer \u001b[38;5;241m=\u001b[39m \u001b[38;5;28mself\u001b[39m\u001b[38;5;241m.\u001b[39mgateway_client\u001b[38;5;241m.\u001b[39msend_command(command)\n\u001b[1;32m-> 1322\u001b[0m return_value \u001b[38;5;241m=\u001b[39m get_return_value(\n\u001b[0;32m   1323\u001b[0m     answer, \u001b[38;5;28mself\u001b[39m\u001b[38;5;241m.\u001b[39mgateway_client, \u001b[38;5;28mself\u001b[39m\u001b[38;5;241m.\u001b[39mtarget_id, \u001b[38;5;28mself\u001b[39m\u001b[38;5;241m.\u001b[39mname)\n\u001b[0;32m   1325\u001b[0m \u001b[38;5;28;01mfor\u001b[39;00m temp_arg \u001b[38;5;129;01min\u001b[39;00m temp_args:\n\u001b[0;32m   1326\u001b[0m     \u001b[38;5;28;01mif\u001b[39;00m \u001b[38;5;28mhasattr\u001b[39m(temp_arg, \u001b[38;5;124m\"\u001b[39m\u001b[38;5;124m_detach\u001b[39m\u001b[38;5;124m\"\u001b[39m):\n",
      "File \u001b[1;32mc:\\Users\\melih\\anaconda3\\Lib\\site-packages\\pyspark\\errors\\exceptions\\captured.py:185\u001b[0m, in \u001b[0;36mcapture_sql_exception.<locals>.deco\u001b[1;34m(*a, **kw)\u001b[0m\n\u001b[0;32m    181\u001b[0m converted \u001b[38;5;241m=\u001b[39m convert_exception(e\u001b[38;5;241m.\u001b[39mjava_exception)\n\u001b[0;32m    182\u001b[0m \u001b[38;5;28;01mif\u001b[39;00m \u001b[38;5;129;01mnot\u001b[39;00m \u001b[38;5;28misinstance\u001b[39m(converted, UnknownException):\n\u001b[0;32m    183\u001b[0m     \u001b[38;5;66;03m# Hide where the exception came from that shows a non-Pythonic\u001b[39;00m\n\u001b[0;32m    184\u001b[0m     \u001b[38;5;66;03m# JVM exception message.\u001b[39;00m\n\u001b[1;32m--> 185\u001b[0m     \u001b[38;5;28;01mraise\u001b[39;00m converted \u001b[38;5;28;01mfrom\u001b[39;00m \u001b[38;5;28;01mNone\u001b[39;00m\n\u001b[0;32m    186\u001b[0m \u001b[38;5;28;01melse\u001b[39;00m:\n\u001b[0;32m    187\u001b[0m     \u001b[38;5;28;01mraise\u001b[39;00m\n",
      "\u001b[1;31mAnalysisException\u001b[0m: Failed to find data source: kafka. Please deploy the application as per the deployment section of Structured Streaming + Kafka Integration Guide."
     ]
    }
   ],
   "source": [
    "# Define JSON schema \n",
    "schema = StructType([\n",
    "    StructField(\"schema\", StructType([\n",
    "        StructField(\"type\", StringType(), True),\n",
    "        StructField(\"fields\", ArrayType(StructType([\n",
    "            StructField(\"type\", StringType(), True),\n",
    "            StructField(\"optional\", StringType(), True),\n",
    "            StructField(\"default\", StringType(), True),\n",
    "            StructField(\"field\", StringType(), True)\n",
    "        ])), True),\n",
    "        StructField(\"optional\", StringType(), True),\n",
    "        StructField(\"name\", StringType(), True),\n",
    "        StructField(\"version\", StringType(), True)\n",
    "    ]), True),\n",
    "\n",
    "    StructField(\"payload\", StructType([\n",
    "        StructField(\"before\", StructType([\n",
    "            StructField(\"employee_id\", StringType(), True),\n",
    "            StructField(\"timestamp\", LongType(), True),\n",
    "            StructField(\"entry_exit\", StringType(), True),  # Giriş/çıkış durumu\n",
    "            StructField(\"location\", StringType(), True),\n",
    "            StructField(\"device_id\", StringType(), True),\n",
    "            StructField(\"access_type\", StringType(), True)\n",
    "        ]), True),\n",
    "        StructField(\"after\", StructType([\n",
    "            StructField(\"employee_id\", StringType(), True),\n",
    "            StructField(\"timestamp\", LongType(), True),\n",
    "            StructField(\"entry_exit\", StringType(), True),  # Giriş/çıkış durumu\n",
    "            StructField(\"location\", StringType(), True),\n",
    "            StructField(\"device_id\", StringType(), True),\n",
    "            StructField(\"access_type\", StringType(), True)\n",
    "        ]), True),\n",
    "        StructField(\"source\", StructType([\n",
    "            StructField(\"version\", StringType(), True),\n",
    "            StructField(\"connector\", StringType(), True),\n",
    "            StructField(\"name\", StringType(), True),\n",
    "            StructField(\"ts_ms\", LongType(), True),\n",
    "            StructField(\"snapshot\", StringType(), True),\n",
    "            StructField(\"db\", StringType(), True),\n",
    "            StructField(\"sequence\", StringType(), True),\n",
    "            StructField(\"schema\", StringType(), True),\n",
    "            StructField(\"table\", StringType(), True),\n",
    "            StructField(\"txid\", LongType(), True),\n",
    "            StructField(\"lsn\", LongType(), True),\n",
    "            StructField(\"xmin\", StringType(), True)\n",
    "        ]), True),\n",
    "        StructField(\"op\", StringType(), True),\n",
    "        StructField(\"ts_ms\", LongType(), True),\n",
    "        StructField(\"transaction\", StructType([\n",
    "            StructField(\"id\", StringType(), True),\n",
    "            StructField(\"total_order\", LongType(), True),\n",
    "            StructField(\"data_collection_order\", LongType(), True)\n",
    "        ]), True)\n",
    "    ]), True)\n",
    "])\n",
    "\n",
    "# Read data from Kafka\n",
    "kafka_df = spark.readStream \\\n",
    "    .format(\"kafka\") \\\n",
    "    .option(\"kafka.bootstrap.servers\", \"34.136.76.36:9092\") \\\n",
    "    .option(\"subscribe\", \"dbserver1.public.turnstile_activity\") \\\n",
    "    .load()\n",
    "\n",
    "# Converting messages to strings\n",
    "kafka_df = kafka_df.selectExpr(\"CAST(value AS STRING)\")\n",
    "\n",
    "# Converting JSON data to a DataFrame\n",
    "json_df = kafka_df.select(from_json(col(\"value\"), schema).alias(\"data\"))\n",
    "\n",
    "# Filtering only entry/exit records (create operations)\n",
    "# json_df = json_df.filter(col(\"data.payload.op\").isin(\"c\"))  # 'c' : create\n",
    "\n",
    "# Converting data to a DataFrame\n",
    "json_df = json_df.select(\n",
    "    col(\"data.payload.after.employee_id\").alias(\"employee_id\"),\n",
    "    col(\"data.payload.after.timestamp\").alias(\"timestamp\"),\n",
    "    col(\"data.payload.after.entry_exit\").alias(\"entry_exit\"),\n",
    "    col(\"data.payload.after.location\").alias(\"location\"),\n",
    "    col(\"data.payload.after.device_id\").alias(\"device_id\"),\n",
    "    col(\"data.payload.after.access_type\").alias(\"access_type\")\n",
    ")"
   ]
  },
  {
   "cell_type": "code",
   "execution_count": null,
   "metadata": {},
   "outputs": [],
   "source": [
    "\n",
    "# holding the data on ram\n",
    "query = json_df.writeStream \\\n",
    "    .outputMode(\"append\") \\\n",
    "    .format(\"memory\") \\\n",
    "    .queryName(\"turnstile_activity\") \\\n",
    "    .start()\n"
   ]
  },
  {
   "cell_type": "code",
   "execution_count": null,
   "metadata": {},
   "outputs": [],
   "source": [
    "spark.sql(\"SELECT * FROM turnstile_activity\").show()"
   ]
  },
  {
   "cell_type": "code",
   "execution_count": null,
   "metadata": {},
   "outputs": [],
   "source": []
  },
  {
   "cell_type": "code",
   "execution_count": null,
   "metadata": {},
   "outputs": [],
   "source": [
    "\n"
   ]
  },
  {
   "cell_type": "code",
   "execution_count": null,
   "metadata": {},
   "outputs": [],
   "source": []
  }
 ],
 "metadata": {
  "kernelspec": {
   "display_name": "base",
   "language": "python",
   "name": "python3"
  },
  "language_info": {
   "codemirror_mode": {
    "name": "ipython",
    "version": 3
   },
   "file_extension": ".py",
   "mimetype": "text/x-python",
   "name": "python",
   "nbconvert_exporter": "python",
   "pygments_lexer": "ipython3",
   "version": "3.12.4"
  }
 },
 "nbformat": 4,
 "nbformat_minor": 2
}
